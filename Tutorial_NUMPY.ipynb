{
 "cells": [
  {
   "cell_type": "markdown",
   "id": "99c9c0fd",
   "metadata": {},
   "source": [
    "1. 텐서 : 임의의 차원 개수를 가지는 행렬의 일반화된 모습\n",
    "2. 텐서에서는 차원(dimension)을 종종 축(axis)라고 부릅니다.\n",
    "3. 텐서의 축 개수를 랭크(rank)라고 부릅니다."
   ]
  },
  {
   "cell_type": "code",
   "execution_count": 1,
   "id": "333860a2",
   "metadata": {},
   "outputs": [],
   "source": [
    "import numpy as np"
   ]
  },
  {
   "cell_type": "markdown",
   "id": "6c8ce31b",
   "metadata": {},
   "source": [
    "# 스칼라 텐서(0D Tensor)"
   ]
  },
  {
   "cell_type": "code",
   "execution_count": 2,
   "id": "7afa2f15",
   "metadata": {},
   "outputs": [
    {
     "data": {
      "text/plain": [
       "0"
      ]
     },
     "execution_count": 2,
     "metadata": {},
     "output_type": "execute_result"
    }
   ],
   "source": [
    "x = np.array(12)\n",
    "x.ndim"
   ]
  },
  {
   "cell_type": "markdown",
   "id": "3e7edab8",
   "metadata": {},
   "source": [
    "# 벡터 텐서(1D Tensor)"
   ]
  },
  {
   "cell_type": "code",
   "execution_count": 3,
   "id": "a1ade99a",
   "metadata": {},
   "outputs": [
    {
     "data": {
      "text/plain": [
       "1"
      ]
     },
     "execution_count": 3,
     "metadata": {},
     "output_type": "execute_result"
    }
   ],
   "source": [
    "x = np.array([12,3,6,14,7]) #5차원 벡터\n",
    "x.ndim\n",
    "#5차원 벡터와 5차원 텐서는 완전히 다른 것! 5차원 벡터는 성분이 5개있는 1D 텐서고\n",
    "#5차원 텐서는 5개의 축이 있는 (무수히 많은 벡터 일 수도 있고, 아니면 최소 1개의 벡터를 갖는다 )"
   ]
  },
  {
   "cell_type": "markdown",
   "id": "ebe9586b",
   "metadata": {},
   "source": [
    "# 행렬(2D Tensor)"
   ]
  },
  {
   "cell_type": "code",
   "execution_count": 16,
   "id": "e56cf395",
   "metadata": {},
   "outputs": [
    {
     "data": {
      "text/plain": [
       "2"
      ]
     },
     "execution_count": 16,
     "metadata": {},
     "output_type": "execute_result"
    }
   ],
   "source": [
    "x = np.array([[5,78,3,45],[6,79,4,1],[3,4,5,6]])\n",
    "x.ndim"
   ]
  },
  {
   "cell_type": "code",
   "execution_count": 17,
   "id": "8f4f40d5",
   "metadata": {},
   "outputs": [
    {
     "data": {
      "text/plain": [
       "array([[ 5, 78,  3, 45],\n",
       "       [ 6, 79,  4,  1],\n",
       "       [ 3,  4,  5,  6]])"
      ]
     },
     "execution_count": 17,
     "metadata": {},
     "output_type": "execute_result"
    }
   ],
   "source": [
    "x\n",
    "#첫번째 축에 놓여있는 원소를 행이라고 부르고, 두번째 축에 놓여있는 원소를 열이라고 부른다.\n",
    "#첫 번째 행 : [5,78,3,45] , 첫 번째 열 : [5,6,3]"
   ]
  },
  {
   "cell_type": "markdown",
   "id": "68bbf696",
   "metadata": {},
   "source": [
    "# 텐서의 핵심속성\n",
    "1. 축의 개수(랭크) : 몇 개의 축을 가진 데이터인지 알아야 한다. 넘파이 라이브러리에서 ndim 속성에 저장되어 있다.\n",
    "2. 크기(shape) : 텐서의 각 축을 따라 얼마나 많은 차원이 있는지를 나타낸 파이썬의 튜플(tuple)이다. 예를 들어 위의 행렬의 크기는 (3,4)다.\n",
    "3. 데이터타입(dtype) : 텐서에 포함된 데이터의 타입. 대부분 float32, uint8, float64로 되어 있다. 참고로 가변길이 문자열은 안된다. "
   ]
  },
  {
   "cell_type": "code",
   "execution_count": 4,
   "id": "55a5e221",
   "metadata": {},
   "outputs": [],
   "source": [
    "from tensorflow.keras.datasets import mnist\n",
    "(train_images, train_labels), (test_images, test_labels) = mnist.load_data()"
   ]
  },
  {
   "cell_type": "code",
   "execution_count": 5,
   "id": "ff0945f1",
   "metadata": {},
   "outputs": [
    {
     "name": "stdout",
     "output_type": "stream",
     "text": [
      "uint8\n"
     ]
    }
   ],
   "source": [
    "print(train_images.dtype)"
   ]
  },
  {
   "cell_type": "code",
   "execution_count": 6,
   "id": "05e54bc0",
   "metadata": {},
   "outputs": [
    {
     "data": {
      "image/png": "[encoded data removed]",
      "text/plain": [
       "<Figure size 432x288 with 1 Axes>"
      ]
     },
     "metadata": {
      "needs_background": "light"
     },
     "output_type": "display_data"
    }
   ],
   "source": [
    "digit = train_images[4]\n",
    "\n",
    "import matplotlib.pyplot as plt\n",
    "plt.imshow(digit,cmap=plt.cm.binary)\n",
    "plt.show()"
   ]
  },
  {
   "cell_type": "markdown",
   "id": "3e63c982",
   "metadata": {},
   "source": [
    "# Numpy Slicing\n",
    "배열에 있는 특정 원소들을 선택하는 것을 슬라이싱이라고 한다. "
   ]
  },
  {
   "cell_type": "code",
   "execution_count": 7,
   "id": "9e68b278",
   "metadata": {},
   "outputs": [
    {
     "name": "stdout",
     "output_type": "stream",
     "text": [
      "(90, 28, 28)\n"
     ]
    }
   ],
   "source": [
    "my_slice = train_images[10:100] #10번부터 99번까지 숫자를 선택하여 90개의 이미지를 섵개한다.\n",
    "print(my_slice.shape)"
   ]
  },
  {
   "cell_type": "code",
   "execution_count": 9,
   "id": "760f188e",
   "metadata": {},
   "outputs": [
    {
     "data": {
      "image/png": "[encoded data removed]",
      "text/plain": [
       "<Figure size 432x288 with 1 Axes>"
      ]
     },
     "metadata": {
      "needs_background": "light"
     },
     "output_type": "display_data"
    }
   ],
   "source": [
    "my_slice = train_images[4,7:-7,7:-7]#음수 인덱스는 뒤에서 부터 센다는 의미. 그래서 순서대로 생각하면 7:21 / 7:21과 같다.\n",
    "plt.imshow(my_slice,cmap=plt.cm.binary)\n",
    "plt.show()"
   ]
  },
  {
   "cell_type": "code",
   "execution_count": 12,
   "id": "843b0bca",
   "metadata": {},
   "outputs": [
    {
     "data": {
      "image/png": "[encoded data removed]",
      "text/plain": [
       "<Figure size 432x288 with 1 Axes>"
      ]
     },
     "metadata": {
      "needs_background": "light"
     },
     "output_type": "display_data"
    }
   ],
   "source": [
    "my_slice = train_images[4,7:21,7:21]\n",
    "plt.imshow(my_slice,cmap=plt.cm.binary)\n",
    "plt.show()"
   ]
  },
  {
   "cell_type": "markdown",
   "id": "ac79f8ce",
   "metadata": {},
   "source": [
    "# Batch size\n",
    "배치사이즈는 샘플을 쪼개는 단위다. 한 번 학습할 때 한 개의 배치사이즈만큼 샘플이 들어가서 학습된다.(학습의 효율을 위해)\n",
    "배치 축(batch size) / 배치 차원(batch dimension)을 첫 번째 축이라 한다."
   ]
  }
 ],
 "metadata": {
  "kernelspec": {
   "display_name": "Python 3 (ipykernel)",
   "language": "python",
   "name": "python3"
  },
  "language_info": {
   "codemirror_mode": {
    "name": "ipython",
    "version": 3
   },
   "file_extension": ".py",
   "mimetype": "text/x-python",
   "name": "python",
   "nbconvert_exporter": "python",
   "pygments_lexer": "ipython3",
   "version": "3.9.7"
  }
 },
 "nbformat": 4,
 "nbformat_minor": 5
}
